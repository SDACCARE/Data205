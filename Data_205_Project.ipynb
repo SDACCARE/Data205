{
 "cells": [
  {
   "cell_type": "code",
   "execution_count": null,
   "id": "1c9d31ad",
   "metadata": {},
   "outputs": [],
   "source": [
    "'''\n",
    "Extract affiliations\n",
    "- Upload csv file\n",
    "- Make a list of PMIDS\n",
    "- Use a for loop to get a list of pmid_efetch, using the list of PMIDs (see Data205_Capstone notebook for general method)\n",
    "- New for loop containing Jenna's code to collect affiliation\n",
    "- Save affiliation in .csv file\n",
    "'''"
   ]
  },
  {
   "cell_type": "code",
   "execution_count": 7,
   "id": "db82702b",
   "metadata": {},
   "outputs": [],
   "source": [
    "## Import libraries\n",
    "import csv\n",
    "import re\n",
    "import pandas as pd\n",
    "import numpy as np\n",
    "import requests\n",
    "from bs4 import BeautifulSoup\n",
    "from datetime import datetime\n",
    "import xml.etree.ElementTree as ET\n",
    "from urllib.request import urlopen\n",
    "import urllib"
   ]
  },
  {
   "cell_type": "code",
   "execution_count": 4,
   "id": "37c590f3",
   "metadata": {},
   "outputs": [],
   "source": [
    "# Try another way to extract the affiliations\n",
    "\n",
    "import os\n",
    "rootDir = r\"C:\\Users\\Mitcheyla$\"\n",
    "fileToSearch = \"Hemolysis.csv\""
   ]
  },
  {
   "cell_type": "code",
   "execution_count": 5,
   "id": "aa56af2c",
   "metadata": {},
   "outputs": [
    {
     "name": "stdout",
     "output_type": "stream",
     "text": [
      "C:\\Users\\Mitcheyla$\\DAPP\\Desktop\\Fall Semester 2023\\FDA Internship\\Hemolysis.csv\n"
     ]
    }
   ],
   "source": [
    "fullpath = ''\n",
    "for relPath,dirs,files in os.walk(rootDir):\n",
    "    if(fileToSearch in files):\n",
    "        fullpath = os.path.join(rootDir,relPath,fileToSearch)\n",
    "        print(fullpath)"
   ]
  },
  {
   "cell_type": "code",
   "execution_count": 8,
   "id": "cb662e84",
   "metadata": {},
   "outputs": [
    {
     "name": "stdout",
     "output_type": "stream",
     "text": [
      "0       28947321\n",
      "1       34542005\n",
      "2       27034320\n",
      "3       30862276\n",
      "4       27323915\n",
      "          ...   \n",
      "9995     1635111\n",
      "9996     2565076\n",
      "9997    35525785\n",
      "9998    25219763\n",
      "9999    24490480\n",
      "Name: PMID, Length: 10000, dtype: int64\n"
     ]
    }
   ],
   "source": [
    "# List of PubMed ID HTML tags\n",
    "pmid_tags = []\n",
    "\n",
    "### get list of PMIDs from hemolysis.csv\n",
    "df = pd.read_csv(fullpath)\n",
    "pmid_list = df['PMID']\n",
    "print(pmid_list)"
   ]
  },
  {
   "cell_type": "code",
   "execution_count": 10,
   "id": "1f5ebf86",
   "metadata": {},
   "outputs": [
    {
     "name": "stdout",
     "output_type": "stream",
     "text": [
      "1Allama Iqbal Medical College, Lahore, Pakistan\n",
      "2University of Mississippi Medical Center\n",
      "1Department of Medical Laboratory Diagnostics, University Hospital \"Sveti Duh\", University of Zagreb, Faculty of Pharmacy and Biochemistry, Zagreb, Croatia.\n",
      "2Department of Laboratory Medicine, University of Washington, Seattle, WA, USA.\n",
      "3Department of Laboratory Medicine, Paracelsus Medical University Salzburg, Salzburg, Austria.\n",
      "4Department of Clinical Biochemistry, Cork University Hospital, Cork, Republic of Ireland.\n",
      "5Section of Clinical Biochemistry, University of Verona, Verona, Italy.\n",
      "1Department of Laboratory Medicine, Ziekenhuis Netwerk Antwerpen, Antwerp, Belgium. Electronic address: heireman.laura@gmail.com.\n",
      "2Department of Orthopedic Surgery, Ziekenhuis Netwerk Antwerpen, Antwerp, Belgium.\n",
      "3Department of Laboratory Medicine, Ziekenhuis Netwerk Antwerpen, Antwerp, Belgium.\n",
      "1U.O. Oncoematologia, Fondazione IRCCS Ca' Granda Ospedale Maggiore Policlinico di Milano, Via Francesco Sforza 35, 20100 Milano, Italy.\n",
      "1Department of Hematology, The First Affliated Hospital, Sun Yat-Sen University, Guangzhou, Guangdong, P.R. China.\n",
      "1McGowan Institute for Regenerative Medicine, University of Pittsburgh, Pittsburgh, PA - USA.\n",
      "2Department of Bioengineering, University of Pittsburgh, Pittsburgh, PA - USA.\n",
      "3Artificial Heart Program, University of Pittsburgh Medical Center, Pittsburgh, PA - USA.\n",
      "4Department of Cardiothoracic Surgery, Children's Hospital of Pittsburgh, Pittsburgh, PA - USA.\n",
      "5Department of Biomedical Engineering, Carnegie Mellon University, Pittsburgh, PA - USA.\n",
      "6Department of Surgery, University of Pittsburgh School of Medicine, Pittsburgh, PA - USA.\n",
      "11 Biorheology Research Laboratory, Menzies Health Institute Queensland, Australia.\n",
      "22 Pediatric Heart Center, University Children's Hospital Zurich, Switzerland.\n",
      "33 Biofluid Mechanics Laboratory, Charité - Universitaetsmedizin Berlin, Germany.\n"
     ]
    }
   ],
   "source": [
    "import requests\n",
    "from bs4 import BeautifulSoup\n",
    "\n",
    "# List of PubMed ID HTML tags\n",
    "pmid_tags = [\n",
    "    '<span class=\"docsum-pmid\">32119415</span>',\n",
    "    '<span class=\"docsum-pmid\">31603708</span>',\n",
    "     '<span class=\"docsum-pmid\">28947321</span>',\n",
    "     '<span class=\"docsum-pmid\">26819490</span>',\n",
    "     '<span class=\"docsum-pmid\">34542005</span>',\n",
    "     '<span class=\"docsum-pmid\">27034320</span>',\n",
    "     '<span class=\"docsum-pmid\">30862276</span>',\n",
    "    # Add more PubMed ID HTML tags as needed\n",
    "]\n",
    "\n",
    "\n",
    "# Loop through the PMID list and fetch data for each PMID\n",
    "#for pmid in pmid_list:\n",
    "    # Create the URL by substituting the current PMID into the base URL\n",
    "    #newtag = baseurl % pmid\n",
    "    #print(newtag)\n",
    "    #pmid_tags.append(newtag)\n",
    "    \n",
    "\n",
    "# Initialize an empty list to store affiliations\n",
    "all_affiliations = []\n",
    "\n",
    "baseurl = 'https://pubmed.ncbi.nlm.nih.gov/'\n",
    "\n",
    "for pmid_tag in pmid_tags:\n",
    "    # Extract the PubMed ID from the HTML tag\n",
    "    pmid = pmid_tag.split('>')[1].split('<')[0]\n",
    "\n",
    "    # Construct the URL for each PubMed ID\n",
    "    url = f'{baseurl}{pmid}/'\n",
    "\n",
    "    # Send an HTTP GET request to the URL\n",
    "    response = requests.get(url)\n",
    "\n",
    "    if response.status_code == 200:\n",
    "        # Parse the HTML content\n",
    "        soup = BeautifulSoup(response.text, 'html.parser')\n",
    "\n",
    "        # Find the affiliations <div> element\n",
    "        affiliations_div = soup.find('div', class_='affiliations')\n",
    "\n",
    "        if affiliations_div:\n",
    "            # Find the <ul> element within affiliations_div\n",
    "            ul_element = affiliations_div.find('ul', class_='item-list')\n",
    "\n",
    "            if ul_element:\n",
    "                # Find all <li> elements within the <ul> element\n",
    "                affiliations = ul_element.find_all('li')\n",
    "\n",
    "                # Extract and append the affiliations to the list\n",
    "                affiliation_texts = [affiliation.get_text(strip=True) for affiliation in affiliations]\n",
    "                all_affiliations.extend(affiliation_texts)\n",
    "            else:\n",
    "                print(f\"No <ul> element found for PMID {pmid}.\")\n",
    "        else:\n",
    "            print(f\"No affiliations <div> element found for PMID {pmid}.\")\n",
    "    else:\n",
    "        print(f\"Failed to retrieve data for PMID {pmid}. Status code: {response.status_code}\")\n",
    "\n",
    "# Print all extracted affiliations\n",
    "for affiliation_text in all_affiliations:\n",
    "    print(affiliation_text)\n",
    "\n",
    "\n",
    "\n",
    "\n"
   ]
  }
 ],
 "metadata": {
  "kernelspec": {
   "display_name": "Python 3",
   "language": "python",
   "name": "python3"
  },
  "language_info": {
   "codemirror_mode": {
    "name": "ipython",
    "version": 3
   },
   "file_extension": ".py",
   "mimetype": "text/x-python",
   "name": "python",
   "nbconvert_exporter": "python",
   "pygments_lexer": "ipython3",
   "version": "3.8.8"
  }
 },
 "nbformat": 4,
 "nbformat_minor": 5
}
